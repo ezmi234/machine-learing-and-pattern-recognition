{
 "cells": [
  {
   "cell_type": "code",
   "execution_count": 24,
   "id": "5c551785-b885-40f7-ada7-1738e2f9cb0e",
   "metadata": {},
   "outputs": [],
   "source": [
    "# Ex1\n",
    "import os\n",
    "\n",
    "folder_path = \"../labs/lab1/data/\"\n",
    "ex1_data_path = \"ex1_data.txt\"\n",
    "full_path = os.path.join(folder_path, ex1_data_path)  # Properly join paths\n",
    "\n",
    "lines = []\n",
    "\n",
    "if os.path.exists(full_path):\n",
    "    with open(full_path, \"r\") as file:\n",
    "        for line in file:\n",
    "            new_line = line.strip().split()\n",
    "            l = new_line[:-5]\n",
    "            scores = list(map(float, new_line[-5:])) \n",
    "            scores.sort()\n",
    "            l.append(scores)\n",
    "            lines.append(l)\n",
    "else:\n",
    "    print(f\"Error: File '{full_path}' not found!\")\n"
   ]
  },
  {
   "cell_type": "code",
   "execution_count": 25,
   "id": "0943fb34-d459-43c2-a01f-2c750c034894",
   "metadata": {},
   "outputs": [
    {
     "name": "stdout",
     "output_type": "stream",
     "text": [
      "[['Donald', 'Duck', 'ITA', [8.9, 9.3, 9.7, 9.7, 9.8]], ['Mickey', 'Mouse', 'ITA', [9.0, 9.0, 9.0, 9.2, 9.5]], ['Bugs', 'Bunny', 'USA', [8.4, 8.5, 8.6, 8.7, 9.0]], ['Daffy', 'Duck', 'RUS', [8.3, 8.8, 9.0, 9.5, 9.6]], ['Charlie', 'Brown', 'GRB', [8.2, 8.6, 8.9, 8.9, 9.3]]]\n"
     ]
    }
   ],
   "source": [
    "print(lines)"
   ]
  },
  {
   "cell_type": "code",
   "execution_count": 26,
   "id": "e895cb19",
   "metadata": {},
   "outputs": [],
   "source": [
    "def get_sum_of_scores(line):\n",
    "    return sum(line[-1][1:4])"
   ]
  },
  {
   "cell_type": "code",
   "execution_count": 27,
   "id": "407697ad-6c75-47fc-a73c-d9d4d0c7802f",
   "metadata": {},
   "outputs": [],
   "source": [
    "sorted_list = sorted(lines, key=get_sum_of_scores, reverse=True)"
   ]
  },
  {
   "cell_type": "code",
   "execution_count": 28,
   "id": "a5f8a780-d47f-43f2-a3bf-9ce9f723f558",
   "metadata": {},
   "outputs": [
    {
     "name": "stdout",
     "output_type": "stream",
     "text": [
      "final ranking:\n",
      "1: Donald Duck - Score: 28.7\n",
      "2: Daffy Duck - Score: 27.3\n",
      "3: Mickey Mouse - Score: 27.2\n"
     ]
    }
   ],
   "source": [
    "print(\"final ranking:\")\n",
    "for idx, item in enumerate(sorted_list[:3]):\n",
    "    print(f\"{idx + 1}: {item[0]} {item[1]} - Score: {get_sum_of_scores(item)}\")"
   ]
  },
  {
   "cell_type": "code",
   "execution_count": 29,
   "id": "d2ae39b4",
   "metadata": {},
   "outputs": [
    {
     "name": "stdout",
     "output_type": "stream",
     "text": [
      "Best country:\n",
      "ITA - Total Score: 55.9\n"
     ]
    }
   ],
   "source": [
    "country_scores = {}\n",
    "for item in sorted_list:\n",
    "    country = item[2]\n",
    "    if country not in country_scores:\n",
    "        country_scores[country] = 0\n",
    "    country_scores[country] += get_sum_of_scores(item)\n",
    "print(\"Best country:\")\n",
    "best_country = max(country_scores, key=country_scores.get)\n",
    "print(f\"{best_country} - Total Score: {country_scores[best_country]}\")"
   ]
  },
  {
   "cell_type": "code",
   "execution_count": 30,
   "id": "133f5fda-3375-4883-ba2d-7eda555dfdd3",
   "metadata": {},
   "outputs": [],
   "source": [
    "# Ex2\n",
    "ex2_data_path = \"ex2_data.txt\"\n",
    "full_path = os.path.join(folder_path, ex2_data_path)\n",
    "\n",
    "lines = []\n",
    "\n",
    "if os.path.exists(full_path):\n",
    "    with open(full_path, \"r\") as file:\n",
    "        for line in file:\n",
    "            l = list(map(int, line.strip().split()))\n",
    "            lines.append(l)\n",
    "else:\n",
    "    print(f\"Error: File '{full_path}' not found!\")"
   ]
  },
  {
   "cell_type": "code",
   "execution_count": 31,
   "id": "22254b96-414f-4891-bd30-153b521a91b0",
   "metadata": {},
   "outputs": [
    {
     "name": "stdout",
     "output_type": "stream",
     "text": [
      "[[2187, 13, 10, 1003, 18000], [3002, 4, 5000, 5, 18100], [2187, 13, 100, 2030, 18500], [3002, 4, 5000, 1100, 18600], [2187, 13, 300, 3300, 19200], [3002, 4, 5000, 2200, 19200], [1976, 4, 5000, 5, 18600], [1976, 4, 5000, 1100, 19600], [1976, 4, 5000, 2200, 20100]]\n"
     ]
    }
   ],
   "source": [
    "print(lines)"
   ]
  },
  {
   "cell_type": "code",
   "execution_count": 32,
   "id": "37558049-60d0-44aa-9cf6-1551e9c92155",
   "metadata": {},
   "outputs": [],
   "source": [
    "flag = \"b\"\n",
    "busId = 1976\n",
    "lineId = 4"
   ]
  },
  {
   "cell_type": "code",
   "execution_count": 33,
   "id": "ce753e3e-b3ba-4254-b911-85df32da91e8",
   "metadata": {},
   "outputs": [],
   "source": [
    "def get_total_distance_by_id(lines):\n",
    "    total_distance = 0\n",
    "    for i in range(len(lines)-1):\n",
    "        delta_x = lines[i][2] - lines[i+1][2]\n",
    "        delta_y = lines[i][3] - lines[i+1][3]\n",
    "        distance = (delta_x**2 + delta_y**2)**0.5\n",
    "        total_distance += distance\n",
    "    return total_distance\n",
    "        "
   ]
  },
  {
   "cell_type": "code",
   "execution_count": 34,
   "id": "775585fd-93df-4752-93ed-c41a3c360221",
   "metadata": {},
   "outputs": [
    {
     "name": "stdout",
     "output_type": "stream",
     "text": [
      "1976 - Total Distance: 2195.0\n"
     ]
    }
   ],
   "source": [
    "print(f\"{busId} - Total Distance: {get_total_distance_by_id([line for line in lines if line[0] == busId])}\")"
   ]
  },
  {
   "cell_type": "code",
   "execution_count": 41,
   "id": "2fab4987",
   "metadata": {},
   "outputs": [],
   "source": [
    "def get_total_time_by_id(lines):\n",
    "    total_time = 0\n",
    "    for i in range(len(lines)-1):\n",
    "        delta_time = lines[i+1][4] - lines[i][4]\n",
    "        total_time += delta_time\n",
    "    return total_time"
   ]
  },
  {
   "cell_type": "code",
   "execution_count": 43,
   "id": "7025260f",
   "metadata": {},
   "outputs": [
    {
     "name": "stdout",
     "output_type": "stream",
     "text": [
      "List of IDs in line 4: [3002, 1976]\n"
     ]
    }
   ],
   "source": [
    "list_of_ids_in_line = []\n",
    "for line in lines:\n",
    "    if line[0] not in list_of_ids_in_line and line[1] == lineId:\n",
    "        list_of_ids_in_line.append(line[0])\n",
    "print(f\"List of IDs in line {lineId}: {list_of_ids_in_line}\")"
   ]
  },
  {
   "cell_type": "code",
   "execution_count": 44,
   "id": "4af8c879",
   "metadata": {},
   "outputs": [
    {
     "name": "stdout",
     "output_type": "stream",
     "text": [
      "Avg speed of all buses in line 4: 1.7293939393939395\n"
     ]
    }
   ],
   "source": [
    "avg_speed = 0\n",
    "for busId in list_of_ids_in_line:\n",
    "    total_distance = get_total_distance_by_id([line for line in lines if line[0] == busId])\n",
    "    total_time = get_total_time_by_id([line for line in lines if line[0] == busId])\n",
    "    avg_speed += float(total_distance) / float(total_time)\n",
    "avg_speed /= len(list_of_ids_in_line)\n",
    "print(f\"Avg speed of all buses in line {lineId}: {avg_speed}\")"
   ]
  }
 ],
 "metadata": {
  "kernelspec": {
   "display_name": "Python 3 (ipykernel)",
   "language": "python",
   "name": "python3"
  },
  "language_info": {
   "codemirror_mode": {
    "name": "ipython",
    "version": 3
   },
   "file_extension": ".py",
   "mimetype": "text/x-python",
   "name": "python",
   "nbconvert_exporter": "python",
   "pygments_lexer": "ipython3",
   "version": "3.12.9"
  }
 },
 "nbformat": 4,
 "nbformat_minor": 5
}
