{
 "cells": [
  {
   "cell_type": "code",
   "execution_count": 2,
   "id": "d3ccc260-aad2-4fc8-9a57-c83acda2a571",
   "metadata": {},
   "outputs": [],
   "source": [
    "import numpy\n",
    "import matplotlib.pyplot as plt\n",
    "\n",
    "from utils.dataset import load_iris_dataset\n",
    "import utils.helpers as helpers"
   ]
  },
  {
   "cell_type": "code",
   "execution_count": 49,
   "id": "a5bcdcdc-5088-43f4-a00b-a469f5727579",
   "metadata": {},
   "outputs": [],
   "source": [
    "def split_db_2to1(D, L, seed=42):\n",
    "    \n",
    "    nTrain = int(D.shape[1]*2.0/3.0)\n",
    "    numpy.random.seed(seed)\n",
    "    idx = numpy.random.permutation(D.shape[1])\n",
    "    idxTrain = idx[0:nTrain]\n",
    "    idxTest = idx[nTrain:]\n",
    "    \n",
    "    DTR = D[:, idxTrain]\n",
    "    DVAL = D[:, idxTest]\n",
    "    LTR = L[idxTrain]\n",
    "    LVAL = L[idxTest]\n",
    "    \n",
    "    return (DTR, LTR), (DVAL, LVAL)"
   ]
  },
  {
   "cell_type": "code",
   "execution_count": 50,
   "id": "4fc09f00-f440-4741-95d4-d6a0a85b0da6",
   "metadata": {},
   "outputs": [],
   "source": [
    "DIris, LIris = load_iris_dataset()\n",
    "D = DIris[:, LIris != 0]\n",
    "L = LIris[LIris != 0]\n",
    "(DTR, LTR), (DVAL, LVAL) = split_db_2to1(D, L)"
   ]
  },
  {
   "cell_type": "code",
   "execution_count": 51,
   "id": "046ce3fe-92ef-4c1f-8252-e226e9da4131",
   "metadata": {},
   "outputs": [
    {
     "name": "stdout",
     "output_type": "stream",
     "text": [
      "(4, 66) (66,)\n",
      "(4, 34) (34,)\n"
     ]
    }
   ],
   "source": [
    "print(DTR.shape, LTR.shape)\n",
    "print(DVAL.shape, LVAL.shape)"
   ]
  },
  {
   "cell_type": "code",
   "execution_count": 52,
   "id": "f58ee463-4f7f-4cf7-93db-c97fafbac05a",
   "metadata": {},
   "outputs": [],
   "source": [
    "m = 2\n",
    "UPCA = helpers.compute_pca(DTR, m = m) # Estimated only on model training data\n",
    "DTR_pca = helpers.apply_pca(UPCA, DTR)   # Applied to original model training data\n",
    "DVAL_pca = helpers.apply_pca(UPCA, DVAL) # Applied to original validation data"
   ]
  },
  {
   "cell_type": "code",
   "execution_count": 53,
   "id": "16f1a531-416d-4644-80ec-ed71893efa0c",
   "metadata": {},
   "outputs": [],
   "source": [
    "ULDA = helpers.compute_lda_JointDiag(DTR_pca, LTR, m = 1) # Estimated only on model training data, after PCA has been applied\n",
    "\n",
    "DTR_lda = helpers.apply_lda(ULDA, DTR_pca)   # Applied to PCA-transformed model training data, the projected training samples are required to check the orientation of the direction and to compute the threshold\n",
    "# Check if the Virginica class samples are, on average, on the right of the Versicolor samples on the training set. If not, we reverse ULDA and re-apply the transformation\n",
    "if DTR_lda[0, LTR==1].mean() > DTR_lda[0, LTR==2].mean():\n",
    "    ULDA = -ULDA\n",
    "    DTR_lda = helpers.apply_lda(ULDA, DTR_pca)\n",
    "    \n",
    "DVAL_lda = helpers.apply_lda(ULDA, DVAL_pca) # Applied to PCA-transformed validation data"
   ]
  },
  {
   "cell_type": "code",
   "execution_count": 54,
   "id": "e9b588fc-37b6-450d-8bf4-3c1aa5b6f863",
   "metadata": {},
   "outputs": [
    {
     "data": {
      "image/png": "[encoded data removed]",
      "text/plain": [
       "<Figure size 1000x400 with 2 Axes>"
      ]
     },
     "metadata": {},
     "output_type": "display_data"
    }
   ],
   "source": [
    "plt.figure(figsize=(10, 4))\n",
    "\n",
    "# --- Training set ---\n",
    "plt.subplot(1, 2, 1)\n",
    "for label in [1, 2]:\n",
    "    plt.hist(DTR_lda[0, LTR == label], bins=5, alpha=0.4, density=True, label=f\"Class {label}\")\n",
    "plt.title(\"DTR - LDA\")\n",
    "plt.xlabel(\"LDA\")\n",
    "plt.ylabel(\"Density\")\n",
    "plt.legend()\n",
    "\n",
    "# --- Validation set ---\n",
    "plt.subplot(1, 2, 2)\n",
    "for label in [1, 2]:\n",
    "    plt.hist(DVAL_lda[0, LVAL == label], bins=5, alpha=0.4, density=True, label=f\"Class {label}\")\n",
    "plt.title(\"DVAL - LDA\")\n",
    "plt.xlabel(\"LDA\")\n",
    "plt.ylabel(\"Density\")\n",
    "plt.legend()\n",
    "\n",
    "plt.tight_layout()\n",
    "plt.show()"
   ]
  },
  {
   "cell_type": "code",
   "execution_count": 55,
   "id": "fc9f3c42-a2f2-4b1a-9b4f-8981787eefae",
   "metadata": {},
   "outputs": [
    {
     "name": "stdout",
     "output_type": "stream",
     "text": [
      "Labels:      [1 2 2 2 2 1 2 1 2 2 2 1 2 2 2 2 1 1 1 2 1 1 1 2 2 2 2 2 1 2 2 1 2 2]\n",
      "Predictions: [1 2 2 2 2 1 2 1 2 2 2 1 2 2 2 2 1 1 1 2 1 1 1 2 2 2 2 2 2 2 2 1 2 2]\n",
      "Number of erros: 1 (out of 34 samples)\n",
      "Error rate: 2.9%\n"
     ]
    }
   ],
   "source": [
    "threshold = (DTR_lda[0, LTR==1].mean() + DTR_lda[0, LTR==2].mean()) / 2.0 # Estimated only on model training data\n",
    "\n",
    "PVAL = numpy.zeros(shape=LVAL.shape, dtype=numpy.int32)\n",
    "PVAL[DVAL_lda[0] >= threshold] = 2\n",
    "PVAL[DVAL_lda[0] < threshold] = 1\n",
    "print('Labels:     ', LVAL)\n",
    "print('Predictions:', PVAL)\n",
    "print('Number of erros:', (PVAL != LVAL).sum(), '(out of %d samples)' % (LVAL.size))\n",
    "print('Error rate: %.1f%%' % ( (PVAL != LVAL).sum() / float(LVAL.size) *100 ))\n"
   ]
  },
  {
   "cell_type": "code",
   "execution_count": 6,
   "id": "f39d3fe4-f5c2-4017-b71f-e8c7524e33e1",
   "metadata": {},
   "outputs": [
    {
     "name": "stdout",
     "output_type": "stream",
     "text": [
      "Labels:      [1 2 1 2 1 1 1 2 2 2 1 2 2 2 1 1 2 1 1 2 2 1 2 2 2 1 1 2 1 2 2 2 1 1]\n",
      "Predictions: [1 2 1 2 1 1 1 2 2 2 2 2 2 2 1 1 2 1 1 2 2 1 2 2 2 1 1 1 1 2 2 2 1 1]\n",
      "Number of erros: 2 (out of 34 samples)\n",
      "Error rate: 5.9%\n"
     ]
    }
   ],
   "source": [
    "# Solution without PCA pre-processing and threshold selection. The threshold is chosen half-way between the two classes\n",
    "ULDA = helpers.compute_lda_JointDiag(DTR, LTR, m=1)\n",
    "\n",
    "DTR_lda = helpers.apply_lda(ULDA, DTR)\n",
    "\n",
    "# Check if the Virginica class samples are, on average, on the right of the Versicolor samples on the training set. If not, we reverse ULDA and re-apply the transformation.\n",
    "if DTR_lda[0, LTR==1].mean() > DTR_lda[0, LTR==2].mean():\n",
    "    ULDA = -ULDA\n",
    "    DTR_lda = helpers.apply_lda(ULDA, DTR)\n",
    "\n",
    "DVAL_lda  = helpers.apply_lda(ULDA, DVAL)\n",
    "\n",
    "threshold = (DTR_lda[0, LTR==1].mean() + DTR_lda[0, LTR==2].mean()) / 2.0 # Estimated only on model training data\n",
    "\n",
    "PVAL = numpy.zeros(shape=LVAL.shape, dtype=numpy.int32)\n",
    "PVAL[DVAL_lda[0] >= threshold] = 2\n",
    "PVAL[DVAL_lda[0] < threshold] = 1\n",
    "print('Labels:     ', LVAL)\n",
    "print('Predictions:', PVAL)\n",
    "print('Number of erros:', (PVAL != LVAL).sum(), '(out of %d samples)' % (LVAL.size))\n",
    "print('Error rate: %.1f%%' % ( (PVAL != LVAL).sum() / float(LVAL.size) *100 ))"
   ]
  },
  {
   "cell_type": "code",
   "execution_count": 7,
   "id": "e89ccf0b-48b2-4daf-aff0-7322806e5e9f",
   "metadata": {},
   "outputs": [
    {
     "name": "stdout",
     "output_type": "stream",
     "text": [
      "Labels:      [1 2 1 2 1 1 1 2 2 2 1 2 2 2 1 1 2 1 1 2 2 1 2 2 2 1 1 2 1 2 2 2 1 1]\n",
      "Predictions: [1 2 1 2 1 1 1 2 2 2 2 2 2 2 1 1 2 1 1 2 2 1 2 2 2 1 1 1 1 2 2 2 1 1]\n",
      "Number of erros: 2 (out of 34 samples)\n",
      "Error rate: 5.9%\n"
     ]
    }
   ],
   "source": [
    "# Solution with PCA pre-processing with dimension m.\n",
    "m = 2\n",
    "UPCA = helpers.compute_pca(DTR, m = m) # Estimated only on model training data\n",
    "DTR_pca = helpers.apply_pca(UPCA, DTR)   # Applied to original model training data\n",
    "DVAL_pca = helpers.apply_pca(UPCA, DVAL) # Applied to original validation data\n",
    "\n",
    "ULDA = helpers.compute_lda_JointDiag(DTR_pca, LTR, m = 1) # Estimated only on model training data, after PCA has been applied\n",
    "\n",
    "DTR_lda = helpers.apply_lda(ULDA, DTR_pca)   # Applied to PCA-transformed model training data, the projected training samples are required to check the orientation of the direction and to compute the threshold\n",
    "# Check if the Virginica class samples are, on average, on the right of the Versicolor samples on the training set. If not, we reverse ULDA and re-apply the transformation\n",
    "if DTR_lda[0, LTR==1].mean() > DTR_lda[0, LTR==2].mean():\n",
    "    ULDA = -ULDA\n",
    "    DTR_lda = helpers.apply_lda(ULDA, DTR_pca)\n",
    "\n",
    "DVAL_lda = helpers.apply_lda(ULDA, DVAL_pca) # Applied to PCA-transformed validation data\n",
    "\n",
    "threshold = (DTR_lda[0, LTR==1].mean() + DTR_lda[0, LTR==2].mean()) / 2.0 # Estimated only on model training data\n",
    "\n",
    "PVAL = numpy.zeros(shape=LVAL.shape, dtype=numpy.int32)\n",
    "PVAL[DVAL_lda[0] >= threshold] = 2\n",
    "PVAL[DVAL_lda[0] < threshold] = 1\n",
    "print('Labels:     ', LVAL)\n",
    "print('Predictions:', PVAL)\n",
    "print('Number of erros:', (PVAL != LVAL).sum(), '(out of %d samples)' % (LVAL.size))\n",
    "print('Error rate: %.1f%%' % ( (PVAL != LVAL).sum() / float(LVAL.size) *100 ))\n",
    "\n"
   ]
  }
 ],
 "metadata": {
  "kernelspec": {
   "display_name": "Python 3 (ipykernel)",
   "language": "python",
   "name": "python3"
  },
  "language_info": {
   "codemirror_mode": {
    "name": "ipython",
    "version": 3
   },
   "file_extension": ".py",
   "mimetype": "text/x-python",
   "name": "python",
   "nbconvert_exporter": "python",
   "pygments_lexer": "ipython3",
   "version": "3.12.9"
  }
 },
 "nbformat": 4,
 "nbformat_minor": 5
}
